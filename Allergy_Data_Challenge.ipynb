{
  "nbformat": 4,
  "nbformat_minor": 0,
  "metadata": {
    "colab": {
      "name": "Allergy Data Challenge.ipynb",
      "provenance": [],
      "collapsed_sections": [],
      "authorship_tag": "ABX9TyN0mv8JdSOeG4cSeyfULcti",
      "include_colab_link": true
    },
    "kernelspec": {
      "display_name": "Python 3",
      "name": "python3"
    }
  },
  "cells": [
    {
      "cell_type": "markdown",
      "metadata": {
        "id": "view-in-github",
        "colab_type": "text"
      },
      "source": [
        "<a href=\"https://colab.research.google.com/github/MitchellMBurton/Allergy_Data_Analysis_Viz/blob/main/Allergy_Data_Challenge.ipynb\" target=\"_parent\"><img src=\"https://colab.research.google.com/assets/colab-badge.svg\" alt=\"Open In Colab\"/></a>"
      ]
    },
    {
      "cell_type": "code",
      "metadata": {
        "id": "UBJWlmNcMgm3"
      },
      "source": [
        "##### GOAL #####\r\n",
        "# To understand parental behaviours around food reintroduction.\r\n",
        "# 1.\tDoes a successful food challenge equate to successful food introduction? \r\n",
        "# 2.\tAre there any particular characteristic of patients that could predict food introduction patterns\r\n",
        "# 3.\tIs food introduction sustained/ maintained when assessed at 3 specific time points namely 1, 3 and 6 months post successful food challenge\r\n",
        "# 4.\tBarriers to a successful introduction and maintenance\r\n",
        "# 5.\tPatients/ Parents perception of the value of inpatient food challenges\r\n",
        "\r\n",
        "# Primary Hypothesis: To test the association of patient characteristics and food introduction patterns\r\n",
        "# Ho: There is no association between patient characteristics and food introduction patterns\r\n",
        "# H1: There is an association between patient characteristics and food introduction patterns.\r\n"
      ],
      "execution_count": null,
      "outputs": []
    },
    {
      "cell_type": "code",
      "metadata": {
        "id": "H-k4DwcRMmYS"
      },
      "source": [
        "# Load imports\r\n",
        "import pandas as pd\r\n",
        "import numpy as np\r\n",
        "import io\r\n",
        "import matplotlib.pyplot as plt\r\n",
        "from scipy.stats import chi2_contingency\r\n",
        "from scipy.stats import chi2\r\n"
      ],
      "execution_count": null,
      "outputs": []
    },
    {
      "cell_type": "code",
      "metadata": {
        "colab": {
          "base_uri": "https://localhost:8080/",
          "height": 754
        },
        "id": "BHaJfZhhMneY",
        "outputId": "0b8d9407-2704-409a-f172-80d517a48757"
      },
      "source": [
        "# Load data into dataframe\r\n",
        "# study_df = pd.read_excel('Study Data.xlsx')\r\n",
        "study_df = pd.read_csv('Study_Data.csv')\r\n",
        "study_df.head(5)"
      ],
      "execution_count": null,
      "outputs": [
        {
          "output_type": "execute_result",
          "data": {
            "text/html": [
              "<div>\n",
              "<style scoped>\n",
              "    .dataframe tbody tr th:only-of-type {\n",
              "        vertical-align: middle;\n",
              "    }\n",
              "\n",
              "    .dataframe tbody tr th {\n",
              "        vertical-align: top;\n",
              "    }\n",
              "\n",
              "    .dataframe thead th {\n",
              "        text-align: right;\n",
              "    }\n",
              "</style>\n",
              "<table border=\"1\" class=\"dataframe\">\n",
              "  <thead>\n",
              "    <tr style=\"text-align: right;\">\n",
              "      <th></th>\n",
              "      <th>Patient Number</th>\n",
              "      <th>Date of challenge</th>\n",
              "      <th>Gender</th>\n",
              "      <th>DOB</th>\n",
              "      <th>Food challenged</th>\n",
              "      <th>Avoided for</th>\n",
              "      <th>Worst Reaction</th>\n",
              "      <th>SPT</th>\n",
              "      <th>Other food allergies</th>\n",
              "      <th>Maintanence of food following a previous successful food challenge</th>\n",
              "      <th>Concomitant atopy: 0=Nil, 1=Eczema, 2=Asthma, 3=AR (Allergic Rhinitis)</th>\n",
              "      <th>Mode 1Month</th>\n",
              "      <th>Mode 3Month</th>\n",
              "      <th>Mode 6Month</th>\n",
              "      <th>1M-Introduced food?</th>\n",
              "      <th>1M-Time to introduction</th>\n",
              "      <th>1M-Frequency of eating</th>\n",
              "      <th>1M-Non Intro reasons:1: Refusal to eat (Texture, Smell or taste issues), 2: Reacted on trial at home, 3: Did not get a chance to introduce</th>\n",
              "      <th>1M-Did you find it useful to have an inpatient hospital challenge(Patient Feedback)</th>\n",
              "      <th>1M What did you want to achieve with the inpatient challenge: 1: If my child is still allergic to food; 2: If I will be able to introduce food into my child’s diet; 3.Accuracy of the skin prick test</th>\n",
              "      <th>3M-Continues to eat</th>\n",
              "      <th>3M-Frequency</th>\n",
              "      <th>3M-nonmaintainencereasons:1: Refusal to eat (Texture, Smell or taste issues), 2: Reacted on trial at home, 3: Not part of family diet</th>\n",
              "      <th>3M-Could we help in ensuring  maintenance of food (Patientfeedback</th>\n",
              "      <th>3M Please provide your thoughts on how we might be able to help you maintain the food item in your child's diet?</th>\n",
              "      <th>6M-Continues to eat?</th>\n",
              "      <th>6M-Frequency</th>\n",
              "      <th>6M-Nonmaintanence reasons: 1: Refusal to eat (Texture, Smell or taste issues), 2: Reacted on trial at home, 3: Not part of family diet</th>\n",
              "      <th>6M-Could we help in ensuring  maintenance of food (Patientfeedback</th>\n",
              "      <th>6M Please provide your thoughts on how we might be able to help you maintain the food item in your child's diet?</th>\n",
              "    </tr>\n",
              "  </thead>\n",
              "  <tbody>\n",
              "    <tr>\n",
              "      <th>0</th>\n",
              "      <td>1</td>\n",
              "      <td>11/03/2020</td>\n",
              "      <td>Male</td>\n",
              "      <td>15/05/2019</td>\n",
              "      <td>Peanut</td>\n",
              "      <td>&lt;2 yrs</td>\n",
              "      <td>Never eaten</td>\n",
              "      <td>1</td>\n",
              "      <td>&gt;2 (Egg, Dairy, Cashew)</td>\n",
              "      <td>NaN</td>\n",
              "      <td>1</td>\n",
              "      <td>Online</td>\n",
              "      <td>Online</td>\n",
              "      <td>Online</td>\n",
              "      <td>Yes</td>\n",
              "      <td>Within a fortnight</td>\n",
              "      <td>Some days of the week</td>\n",
              "      <td>0</td>\n",
              "      <td>Yes</td>\n",
              "      <td>1,2,3</td>\n",
              "      <td>Yes</td>\n",
              "      <td>Weekly</td>\n",
              "      <td>0</td>\n",
              "      <td>0</td>\n",
              "      <td>0</td>\n",
              "      <td>Yes</td>\n",
              "      <td>Fortnightly</td>\n",
              "      <td>0</td>\n",
              "      <td>No</td>\n",
              "      <td>0</td>\n",
              "    </tr>\n",
              "    <tr>\n",
              "      <th>1</th>\n",
              "      <td>2</td>\n",
              "      <td>4/06/2020</td>\n",
              "      <td>Female</td>\n",
              "      <td>16/02/2008</td>\n",
              "      <td>Meat</td>\n",
              "      <td>&lt;2 yrs</td>\n",
              "      <td>Anaphylaxis</td>\n",
              "      <td>Neg</td>\n",
              "      <td>&lt;2 (Turkey)</td>\n",
              "      <td>NaN</td>\n",
              "      <td>3</td>\n",
              "      <td>Phone</td>\n",
              "      <td>Online</td>\n",
              "      <td>No further  f/u</td>\n",
              "      <td>Yes</td>\n",
              "      <td>The next day</td>\n",
              "      <td>Some days of the week</td>\n",
              "      <td>0</td>\n",
              "      <td>Yes</td>\n",
              "      <td>1</td>\n",
              "      <td>No</td>\n",
              "      <td>0</td>\n",
              "      <td>2</td>\n",
              "      <td>No</td>\n",
              "      <td>0</td>\n",
              "      <td>NaN</td>\n",
              "      <td>NaN</td>\n",
              "      <td>NaN</td>\n",
              "      <td>NaN</td>\n",
              "      <td>NaN</td>\n",
              "    </tr>\n",
              "    <tr>\n",
              "      <th>2</th>\n",
              "      <td>3</td>\n",
              "      <td>15/04/2020</td>\n",
              "      <td>Female</td>\n",
              "      <td>28/07/2018</td>\n",
              "      <td>Peanut</td>\n",
              "      <td>&lt;2 yrs</td>\n",
              "      <td>Anaphylaxis</td>\n",
              "      <td>Neg</td>\n",
              "      <td>0</td>\n",
              "      <td>NaN</td>\n",
              "      <td>0</td>\n",
              "      <td>Online</td>\n",
              "      <td>Online</td>\n",
              "      <td>Online</td>\n",
              "      <td>Yes</td>\n",
              "      <td>The next day</td>\n",
              "      <td>Some days of the week</td>\n",
              "      <td>0</td>\n",
              "      <td>Yes</td>\n",
              "      <td>2</td>\n",
              "      <td>Yes</td>\n",
              "      <td>Fortnightly</td>\n",
              "      <td>0</td>\n",
              "      <td>0</td>\n",
              "      <td>0</td>\n",
              "      <td>Yes</td>\n",
              "      <td>Weekly</td>\n",
              "      <td>0</td>\n",
              "      <td>No</td>\n",
              "      <td>0</td>\n",
              "    </tr>\n",
              "    <tr>\n",
              "      <th>3</th>\n",
              "      <td>4</td>\n",
              "      <td>4/03/2020</td>\n",
              "      <td>Male</td>\n",
              "      <td>3/11/2010</td>\n",
              "      <td>Seafood</td>\n",
              "      <td>&gt;2 yrs</td>\n",
              "      <td>Never eaten</td>\n",
              "      <td>1</td>\n",
              "      <td>&gt;2 (Egg,Peanut,Snapper)</td>\n",
              "      <td>Yes(Whitefish)</td>\n",
              "      <td>2</td>\n",
              "      <td>Online</td>\n",
              "      <td>Online</td>\n",
              "      <td>Phone</td>\n",
              "      <td>Yes</td>\n",
              "      <td>Within a week's time</td>\n",
              "      <td>once a fortnight</td>\n",
              "      <td>0</td>\n",
              "      <td>Yes</td>\n",
              "      <td>2</td>\n",
              "      <td>Yes</td>\n",
              "      <td>Once every couple of months</td>\n",
              "      <td>0</td>\n",
              "      <td>0</td>\n",
              "      <td>0</td>\n",
              "      <td>Yes</td>\n",
              "      <td>Once every couple of months</td>\n",
              "      <td>0</td>\n",
              "      <td>Yes</td>\n",
              "      <td>Support</td>\n",
              "    </tr>\n",
              "    <tr>\n",
              "      <th>4</th>\n",
              "      <td>5</td>\n",
              "      <td>23/01/2020</td>\n",
              "      <td>Male</td>\n",
              "      <td>27/04/2016</td>\n",
              "      <td>Egg</td>\n",
              "      <td>&lt;2 yrs</td>\n",
              "      <td>Anaphylaxis</td>\n",
              "      <td>Equivocal</td>\n",
              "      <td>0</td>\n",
              "      <td>NaN</td>\n",
              "      <td>1</td>\n",
              "      <td>Phone</td>\n",
              "      <td>No further f/u</td>\n",
              "      <td>No further  f/u</td>\n",
              "      <td>No</td>\n",
              "      <td>0</td>\n",
              "      <td>0</td>\n",
              "      <td>1</td>\n",
              "      <td>Yes</td>\n",
              "      <td>1</td>\n",
              "      <td>NaN</td>\n",
              "      <td>NaN</td>\n",
              "      <td>NaN</td>\n",
              "      <td>NaN</td>\n",
              "      <td>NaN</td>\n",
              "      <td>NaN</td>\n",
              "      <td>NaN</td>\n",
              "      <td>NaN</td>\n",
              "      <td>NaN</td>\n",
              "      <td>NaN</td>\n",
              "    </tr>\n",
              "  </tbody>\n",
              "</table>\n",
              "</div>"
            ],
            "text/plain": [
              "   Patient Number  ... 6M Please provide your thoughts on how we might be able to help you maintain the food item in your child's diet?\n",
              "0               1  ...                                                  0                                                              \n",
              "1               2  ...                                                NaN                                                              \n",
              "2               3  ...                                                  0                                                              \n",
              "3               4  ...                                            Support                                                              \n",
              "4               5  ...                                                NaN                                                              \n",
              "\n",
              "[5 rows x 30 columns]"
            ]
          },
          "metadata": {
            "tags": []
          },
          "execution_count": 3
        }
      ]
    },
    {
      "cell_type": "code",
      "metadata": {
        "colab": {
          "base_uri": "https://localhost:8080/",
          "height": 754
        },
        "id": "W1qwX5mPWPIC",
        "outputId": "23b54305-8024-4fa8-b5ee-bdddb0599a81"
      },
      "source": [
        "# Create Age column\r\n",
        "study_df['Age (Years)'] = pd.to_datetime(study_df['Date of challenge']) - pd.to_datetime(study_df['DOB'])\r\n",
        "study_df['Age (Years)'] = round(study_df['Age (Years)']/np.timedelta64(1, 'Y'), 0)\r\n",
        "study_df.head(5)"
      ],
      "execution_count": null,
      "outputs": [
        {
          "output_type": "execute_result",
          "data": {
            "text/html": [
              "<div>\n",
              "<style scoped>\n",
              "    .dataframe tbody tr th:only-of-type {\n",
              "        vertical-align: middle;\n",
              "    }\n",
              "\n",
              "    .dataframe tbody tr th {\n",
              "        vertical-align: top;\n",
              "    }\n",
              "\n",
              "    .dataframe thead th {\n",
              "        text-align: right;\n",
              "    }\n",
              "</style>\n",
              "<table border=\"1\" class=\"dataframe\">\n",
              "  <thead>\n",
              "    <tr style=\"text-align: right;\">\n",
              "      <th></th>\n",
              "      <th>Patient Number</th>\n",
              "      <th>Date of challenge</th>\n",
              "      <th>Gender</th>\n",
              "      <th>DOB</th>\n",
              "      <th>Food challenged</th>\n",
              "      <th>Avoided for</th>\n",
              "      <th>Worst Reaction</th>\n",
              "      <th>SPT</th>\n",
              "      <th>Other food allergies</th>\n",
              "      <th>Maintanence of food following a previous successful food challenge</th>\n",
              "      <th>Concomitant atopy: 0=Nil, 1=Eczema, 2=Asthma, 3=AR (Allergic Rhinitis)</th>\n",
              "      <th>Mode 1Month</th>\n",
              "      <th>Mode 3Month</th>\n",
              "      <th>Mode 6Month</th>\n",
              "      <th>1M-Introduced food?</th>\n",
              "      <th>1M-Time to introduction</th>\n",
              "      <th>1M-Frequency of eating</th>\n",
              "      <th>1M-Non Intro reasons:1: Refusal to eat (Texture, Smell or taste issues), 2: Reacted on trial at home, 3: Did not get a chance to introduce</th>\n",
              "      <th>1M-Did you find it useful to have an inpatient hospital challenge(Patient Feedback)</th>\n",
              "      <th>1M What did you want to achieve with the inpatient challenge: 1: If my child is still allergic to food; 2: If I will be able to introduce food into my child’s diet; 3.Accuracy of the skin prick test</th>\n",
              "      <th>3M-Continues to eat</th>\n",
              "      <th>3M-Frequency</th>\n",
              "      <th>3M-nonmaintainencereasons:1: Refusal to eat (Texture, Smell or taste issues), 2: Reacted on trial at home, 3: Not part of family diet</th>\n",
              "      <th>3M-Could we help in ensuring  maintenance of food (Patientfeedback</th>\n",
              "      <th>3M Please provide your thoughts on how we might be able to help you maintain the food item in your child's diet?</th>\n",
              "      <th>6M-Continues to eat?</th>\n",
              "      <th>6M-Frequency</th>\n",
              "      <th>6M-Nonmaintanence reasons: 1: Refusal to eat (Texture, Smell or taste issues), 2: Reacted on trial at home, 3: Not part of family diet</th>\n",
              "      <th>6M-Could we help in ensuring  maintenance of food (Patientfeedback</th>\n",
              "      <th>6M Please provide your thoughts on how we might be able to help you maintain the food item in your child's diet?</th>\n",
              "      <th>Age (Years)</th>\n",
              "    </tr>\n",
              "  </thead>\n",
              "  <tbody>\n",
              "    <tr>\n",
              "      <th>0</th>\n",
              "      <td>1</td>\n",
              "      <td>11/03/2020</td>\n",
              "      <td>Male</td>\n",
              "      <td>15/05/2019</td>\n",
              "      <td>Peanut</td>\n",
              "      <td>&lt;2 yrs</td>\n",
              "      <td>Never eaten</td>\n",
              "      <td>1</td>\n",
              "      <td>&gt;2 (Egg, Dairy, Cashew)</td>\n",
              "      <td>NaN</td>\n",
              "      <td>1</td>\n",
              "      <td>Online</td>\n",
              "      <td>Online</td>\n",
              "      <td>Online</td>\n",
              "      <td>Yes</td>\n",
              "      <td>Within a fortnight</td>\n",
              "      <td>Some days of the week</td>\n",
              "      <td>0</td>\n",
              "      <td>Yes</td>\n",
              "      <td>1,2,3</td>\n",
              "      <td>Yes</td>\n",
              "      <td>Weekly</td>\n",
              "      <td>0</td>\n",
              "      <td>0</td>\n",
              "      <td>0</td>\n",
              "      <td>Yes</td>\n",
              "      <td>Fortnightly</td>\n",
              "      <td>0</td>\n",
              "      <td>No</td>\n",
              "      <td>0</td>\n",
              "      <td>1.0</td>\n",
              "    </tr>\n",
              "    <tr>\n",
              "      <th>1</th>\n",
              "      <td>2</td>\n",
              "      <td>4/06/2020</td>\n",
              "      <td>Female</td>\n",
              "      <td>16/02/2008</td>\n",
              "      <td>Meat</td>\n",
              "      <td>&lt;2 yrs</td>\n",
              "      <td>Anaphylaxis</td>\n",
              "      <td>Neg</td>\n",
              "      <td>&lt;2 (Turkey)</td>\n",
              "      <td>NaN</td>\n",
              "      <td>3</td>\n",
              "      <td>Phone</td>\n",
              "      <td>Online</td>\n",
              "      <td>No further  f/u</td>\n",
              "      <td>Yes</td>\n",
              "      <td>The next day</td>\n",
              "      <td>Some days of the week</td>\n",
              "      <td>0</td>\n",
              "      <td>Yes</td>\n",
              "      <td>1</td>\n",
              "      <td>No</td>\n",
              "      <td>0</td>\n",
              "      <td>2</td>\n",
              "      <td>No</td>\n",
              "      <td>0</td>\n",
              "      <td>NaN</td>\n",
              "      <td>NaN</td>\n",
              "      <td>NaN</td>\n",
              "      <td>NaN</td>\n",
              "      <td>NaN</td>\n",
              "      <td>12.0</td>\n",
              "    </tr>\n",
              "    <tr>\n",
              "      <th>2</th>\n",
              "      <td>3</td>\n",
              "      <td>15/04/2020</td>\n",
              "      <td>Female</td>\n",
              "      <td>28/07/2018</td>\n",
              "      <td>Peanut</td>\n",
              "      <td>&lt;2 yrs</td>\n",
              "      <td>Anaphylaxis</td>\n",
              "      <td>Neg</td>\n",
              "      <td>0</td>\n",
              "      <td>NaN</td>\n",
              "      <td>0</td>\n",
              "      <td>Online</td>\n",
              "      <td>Online</td>\n",
              "      <td>Online</td>\n",
              "      <td>Yes</td>\n",
              "      <td>The next day</td>\n",
              "      <td>Some days of the week</td>\n",
              "      <td>0</td>\n",
              "      <td>Yes</td>\n",
              "      <td>2</td>\n",
              "      <td>Yes</td>\n",
              "      <td>Fortnightly</td>\n",
              "      <td>0</td>\n",
              "      <td>0</td>\n",
              "      <td>0</td>\n",
              "      <td>Yes</td>\n",
              "      <td>Weekly</td>\n",
              "      <td>0</td>\n",
              "      <td>No</td>\n",
              "      <td>0</td>\n",
              "      <td>2.0</td>\n",
              "    </tr>\n",
              "    <tr>\n",
              "      <th>3</th>\n",
              "      <td>4</td>\n",
              "      <td>4/03/2020</td>\n",
              "      <td>Male</td>\n",
              "      <td>3/11/2010</td>\n",
              "      <td>Seafood</td>\n",
              "      <td>&gt;2 yrs</td>\n",
              "      <td>Never eaten</td>\n",
              "      <td>1</td>\n",
              "      <td>&gt;2 (Egg,Peanut,Snapper)</td>\n",
              "      <td>Yes(Whitefish)</td>\n",
              "      <td>2</td>\n",
              "      <td>Online</td>\n",
              "      <td>Online</td>\n",
              "      <td>Phone</td>\n",
              "      <td>Yes</td>\n",
              "      <td>Within a week's time</td>\n",
              "      <td>once a fortnight</td>\n",
              "      <td>0</td>\n",
              "      <td>Yes</td>\n",
              "      <td>2</td>\n",
              "      <td>Yes</td>\n",
              "      <td>Once every couple of months</td>\n",
              "      <td>0</td>\n",
              "      <td>0</td>\n",
              "      <td>0</td>\n",
              "      <td>Yes</td>\n",
              "      <td>Once every couple of months</td>\n",
              "      <td>0</td>\n",
              "      <td>Yes</td>\n",
              "      <td>Support</td>\n",
              "      <td>10.0</td>\n",
              "    </tr>\n",
              "    <tr>\n",
              "      <th>4</th>\n",
              "      <td>5</td>\n",
              "      <td>23/01/2020</td>\n",
              "      <td>Male</td>\n",
              "      <td>27/04/2016</td>\n",
              "      <td>Egg</td>\n",
              "      <td>&lt;2 yrs</td>\n",
              "      <td>Anaphylaxis</td>\n",
              "      <td>Equivocal</td>\n",
              "      <td>0</td>\n",
              "      <td>NaN</td>\n",
              "      <td>1</td>\n",
              "      <td>Phone</td>\n",
              "      <td>No further f/u</td>\n",
              "      <td>No further  f/u</td>\n",
              "      <td>No</td>\n",
              "      <td>0</td>\n",
              "      <td>0</td>\n",
              "      <td>1</td>\n",
              "      <td>Yes</td>\n",
              "      <td>1</td>\n",
              "      <td>NaN</td>\n",
              "      <td>NaN</td>\n",
              "      <td>NaN</td>\n",
              "      <td>NaN</td>\n",
              "      <td>NaN</td>\n",
              "      <td>NaN</td>\n",
              "      <td>NaN</td>\n",
              "      <td>NaN</td>\n",
              "      <td>NaN</td>\n",
              "      <td>NaN</td>\n",
              "      <td>4.0</td>\n",
              "    </tr>\n",
              "  </tbody>\n",
              "</table>\n",
              "</div>"
            ],
            "text/plain": [
              "   Patient Number  ... Age (Years)\n",
              "0               1  ...         1.0\n",
              "1               2  ...        12.0\n",
              "2               3  ...         2.0\n",
              "3               4  ...        10.0\n",
              "4               5  ...         4.0\n",
              "\n",
              "[5 rows x 31 columns]"
            ]
          },
          "metadata": {
            "tags": []
          },
          "execution_count": 4
        }
      ]
    },
    {
      "cell_type": "code",
      "metadata": {
        "colab": {
          "base_uri": "https://localhost:8080/"
        },
        "id": "uXxO7n2fUjmo",
        "outputId": "4012c1c6-a1ba-48b5-9862-9d2620174ed3"
      },
      "source": [
        "## Clean and prepare data\r\n",
        "# Shape of data before cleaning\r\n",
        "shape_before = study_df.shape\r\n",
        "\r\n",
        "# Rename columns into shorter, user friendly names\r\n",
        "study_df_colnames = []\r\n",
        "\r\n",
        "# Remove white space before and after element\r\n",
        "study_df = study_df.apply(lambda x: x.str.strip() if x.dtype == \"object\" else x)\r\n",
        "\r\n",
        "# Remove rows missing 15 or more values.\r\n",
        "row_nan_count = np.array(study_df.isnull().sum(axis=1))\r\n",
        "row_nan_bool = row_nan_count<=15\r\n",
        "study_df = study_df[row_nan_bool]\r\n",
        "\r\n",
        "# Ensure correct data type for each columns\r\n",
        "# study_df.dtypes\r\n",
        "study_df = study_df.astype(str)\r\n",
        "# study_df = study_df.apply(str.lower())\r\n",
        "\r\n",
        "# Shape of data after cleaning\r\n",
        "shape_after = study_df.shape\r\n",
        "\r\n",
        "# Show change in data after cleaning\r\n",
        "bef_aft = pd.DataFrame([shape_before, shape_after])\r\n",
        "bef_aft = bef_aft.T\r\n",
        "bef_aft.columns = ['Before', 'After']\r\n",
        "print(bef_aft)\r\n"
      ],
      "execution_count": null,
      "outputs": [
        {
          "output_type": "stream",
          "text": [
            "   Before  After\n",
            "0     124    110\n",
            "1      31     31\n"
          ],
          "name": "stdout"
        }
      ]
    },
    {
      "cell_type": "code",
      "metadata": {
        "id": "TPkza-Dg00M_"
      },
      "source": [
        "# # Checking differences in summary of successful and unsuccessful patients\r\n",
        "# study_df_success = study_df[study_df['6M-Continues to eat?']=='Yes']\r\n",
        "# study_df_fail = study_df[study_df['6M-Continues to eat?']=='No']\r\n",
        "\r\n",
        "# study_df_success.describe()\r\n",
        "# study_df_fail.describe()"
      ],
      "execution_count": null,
      "outputs": []
    },
    {
      "cell_type": "code",
      "metadata": {
        "colab": {
          "base_uri": "https://localhost:8080/"
        },
        "id": "5cTLtezoMq2K",
        "outputId": "13eed432-54c3-4d62-a029-a6e9b633421b"
      },
      "source": [
        "# 1.\tDoes a successful food challenge equate to successful food introduction? \r\n",
        "# Maintenance of food following previous successful food challenge\r\n",
        "study_df['Maintanence of food following a previous successful food challenge'] = study_df['Maintanence of food following a previous successful food challenge'].astype(str)\r\n",
        "study_df['Maintanence of food following a previous successful food challenge'] = study_df['Maintanence of food following a previous successful food challenge'].apply(lambda x: 'Yes' if 'Yes' in x else x)\r\n",
        "study_df['Maintanence of food following a previous successful food challenge'] = study_df['Maintanence of food following a previous successful food challenge'].apply(lambda x: 'No' if 'No' in x else x)\r\n",
        "food_chl_main = pd.DataFrame(study_df['Maintanence of food following a previous successful food challenge'].value_counts()).T\r\n",
        "food_chl_main[\"Total\"] = food_chl_main.sum(axis=1)\r\n",
        "print(food_chl_main, '\\n')\r\n",
        "print(\"% Of respondents who previously had a succesful food challenge\")\r\n",
        "print(food_chl_main.Yes/(food_chl_main.No+food_chl_main.Yes)*100)\r\n"
      ],
      "execution_count": null,
      "outputs": [
        {
          "output_type": "stream",
          "text": [
            "                                                    nan  Yes  No  Total\n",
            "Maintanence of food following a previous succes...   76   30   4    110 \n",
            "\n",
            "% Of respondents who previously had a succesful food challenge\n",
            "Maintanence of food following a previous successful food challenge    88.235294\n",
            "dtype: float64\n"
          ],
          "name": "stdout"
        }
      ]
    },
    {
      "cell_type": "code",
      "metadata": {
        "colab": {
          "base_uri": "https://localhost:8080/",
          "height": 106
        },
        "id": "w0D9phCuBoju",
        "outputId": "f91d2775-7081-4550-e9dc-06b9bb5beb08"
      },
      "source": [
        "# 1 Continued: Percentage of respondents (Yes or No not Nan)\r\n",
        "food_chl_main_resp = food_chl_main[['Yes', 'No']].T\r\n",
        "food_chl_main_resp['%'] = food_chl_main_resp['Maintanence of food following a previous successful food challenge']/food_chl_main_resp['Maintanence of food following a previous successful food challenge'].sum()*100\r\n",
        "round(food_chl_main_resp, 1)\r\n"
      ],
      "execution_count": null,
      "outputs": [
        {
          "output_type": "execute_result",
          "data": {
            "text/html": [
              "<div>\n",
              "<style scoped>\n",
              "    .dataframe tbody tr th:only-of-type {\n",
              "        vertical-align: middle;\n",
              "    }\n",
              "\n",
              "    .dataframe tbody tr th {\n",
              "        vertical-align: top;\n",
              "    }\n",
              "\n",
              "    .dataframe thead th {\n",
              "        text-align: right;\n",
              "    }\n",
              "</style>\n",
              "<table border=\"1\" class=\"dataframe\">\n",
              "  <thead>\n",
              "    <tr style=\"text-align: right;\">\n",
              "      <th></th>\n",
              "      <th>Maintanence of food following a previous successful food challenge</th>\n",
              "      <th>%</th>\n",
              "    </tr>\n",
              "  </thead>\n",
              "  <tbody>\n",
              "    <tr>\n",
              "      <th>Yes</th>\n",
              "      <td>30</td>\n",
              "      <td>88.2</td>\n",
              "    </tr>\n",
              "    <tr>\n",
              "      <th>No</th>\n",
              "      <td>4</td>\n",
              "      <td>11.8</td>\n",
              "    </tr>\n",
              "  </tbody>\n",
              "</table>\n",
              "</div>"
            ],
            "text/plain": [
              "     Maintanence of food following a previous successful food challenge     %\n",
              "Yes                                                 30                   88.2\n",
              "No                                                   4                   11.8"
            ]
          },
          "metadata": {
            "tags": []
          },
          "execution_count": 8
        }
      ]
    },
    {
      "cell_type": "code",
      "metadata": {
        "id": "Q56C-22qliP-"
      },
      "source": [
        "# 2.\tAre there any particular characteristic of patients that could predict food introduction patterns\r\n"
      ],
      "execution_count": null,
      "outputs": []
    },
    {
      "cell_type": "code",
      "metadata": {
        "id": "B5BtEbFkMvWW",
        "colab": {
          "base_uri": "https://localhost:8080/",
          "height": 329
        },
        "outputId": "34c7fb2f-b1b5-4467-da18-e3135d16cdc3"
      },
      "source": [
        "# Hypothesis test\r\n",
        "# Perform a chi-squared test\r\n",
        "\r\n",
        "# Select feature columns\r\n",
        "feat_cols = ['Gender', 'Age (Years)', 'Food challenged', 'Avoided for', 'Worst Reaction', 'SPT ', \r\n",
        "             'Other food allergies', 'Maintanence of food following a previous successful food challenge', \r\n",
        "             'Concomitant atopy: 0=Nil, 1=Eczema, 2=Asthma, 3=AR (Allergic Rhinitis)', '6M-Continues to eat?']\r\n",
        "\r\n",
        "# Create feature dataframe and remove rows where the 6-month outcome is Nan\r\n",
        "study_df_chi = study_df[feat_cols].copy()\r\n",
        "study_df_chi = study_df_chi[~study_df_chi['6M-Continues to eat?'].str.contains('nan')]\r\n",
        "study_df_chi.head(5)\r\n",
        "\r\n"
      ],
      "execution_count": null,
      "outputs": [
        {
          "output_type": "execute_result",
          "data": {
            "text/html": [
              "<div>\n",
              "<style scoped>\n",
              "    .dataframe tbody tr th:only-of-type {\n",
              "        vertical-align: middle;\n",
              "    }\n",
              "\n",
              "    .dataframe tbody tr th {\n",
              "        vertical-align: top;\n",
              "    }\n",
              "\n",
              "    .dataframe thead th {\n",
              "        text-align: right;\n",
              "    }\n",
              "</style>\n",
              "<table border=\"1\" class=\"dataframe\">\n",
              "  <thead>\n",
              "    <tr style=\"text-align: right;\">\n",
              "      <th></th>\n",
              "      <th>Gender</th>\n",
              "      <th>Age (Years)</th>\n",
              "      <th>Food challenged</th>\n",
              "      <th>Avoided for</th>\n",
              "      <th>Worst Reaction</th>\n",
              "      <th>SPT</th>\n",
              "      <th>Other food allergies</th>\n",
              "      <th>Maintanence of food following a previous successful food challenge</th>\n",
              "      <th>Concomitant atopy: 0=Nil, 1=Eczema, 2=Asthma, 3=AR (Allergic Rhinitis)</th>\n",
              "      <th>6M-Continues to eat?</th>\n",
              "    </tr>\n",
              "  </thead>\n",
              "  <tbody>\n",
              "    <tr>\n",
              "      <th>0</th>\n",
              "      <td>Male</td>\n",
              "      <td>1.0</td>\n",
              "      <td>Peanut</td>\n",
              "      <td>&lt;2 yrs</td>\n",
              "      <td>Never eaten</td>\n",
              "      <td>1</td>\n",
              "      <td>&gt;2 (Egg, Dairy, Cashew)</td>\n",
              "      <td>nan</td>\n",
              "      <td>1</td>\n",
              "      <td>Yes</td>\n",
              "    </tr>\n",
              "    <tr>\n",
              "      <th>2</th>\n",
              "      <td>Female</td>\n",
              "      <td>2.0</td>\n",
              "      <td>Peanut</td>\n",
              "      <td>&lt;2 yrs</td>\n",
              "      <td>Anaphylaxis</td>\n",
              "      <td>Neg</td>\n",
              "      <td>0</td>\n",
              "      <td>nan</td>\n",
              "      <td>0</td>\n",
              "      <td>Yes</td>\n",
              "    </tr>\n",
              "    <tr>\n",
              "      <th>3</th>\n",
              "      <td>Male</td>\n",
              "      <td>10.0</td>\n",
              "      <td>Seafood</td>\n",
              "      <td>&gt;2 yrs</td>\n",
              "      <td>Never eaten</td>\n",
              "      <td>1</td>\n",
              "      <td>&gt;2 (Egg,Peanut,Snapper)</td>\n",
              "      <td>Yes</td>\n",
              "      <td>2</td>\n",
              "      <td>Yes</td>\n",
              "    </tr>\n",
              "    <tr>\n",
              "      <th>6</th>\n",
              "      <td>Female</td>\n",
              "      <td>18.0</td>\n",
              "      <td>Treenut</td>\n",
              "      <td>&gt;2 yrs</td>\n",
              "      <td>Mild to Moderate Allergic Reaction</td>\n",
              "      <td>2</td>\n",
              "      <td>&lt;2 (Peanut)</td>\n",
              "      <td>No</td>\n",
              "      <td>3</td>\n",
              "      <td>Yes</td>\n",
              "    </tr>\n",
              "    <tr>\n",
              "      <th>7</th>\n",
              "      <td>Female</td>\n",
              "      <td>1.0</td>\n",
              "      <td>Egg</td>\n",
              "      <td>&lt;2 yrs</td>\n",
              "      <td>Anaphylaxis</td>\n",
              "      <td>1</td>\n",
              "      <td>0</td>\n",
              "      <td>nan</td>\n",
              "      <td>0</td>\n",
              "      <td>Yes</td>\n",
              "    </tr>\n",
              "  </tbody>\n",
              "</table>\n",
              "</div>"
            ],
            "text/plain": [
              "   Gender  ... 6M-Continues to eat?\n",
              "0    Male  ...                  Yes\n",
              "2  Female  ...                  Yes\n",
              "3    Male  ...                  Yes\n",
              "6  Female  ...                  Yes\n",
              "7  Female  ...                  Yes\n",
              "\n",
              "[5 rows x 10 columns]"
            ]
          },
          "metadata": {
            "tags": []
          },
          "execution_count": 10
        }
      ]
    },
    {
      "cell_type": "code",
      "metadata": {
        "id": "DuWEq1KVh6-y"
      },
      "source": [
        "# Hypothesis test continued\r\n",
        "# Define chi squared test function\r\n",
        "def chi_squared_test(cont_table):\r\n",
        "  table = cont_table\r\n",
        "  print(table)\r\n",
        "  stat, p, dof, expected = chi2_contingency(table)\r\n",
        "  print('dof=%d' % dof)\r\n",
        "  # print(expected)\r\n",
        "  # interpret test-statistic\r\n",
        "  prob = 0.95\r\n",
        "  critical = chi2.ppf(prob, dof)\r\n",
        "  print('probability=%.3f, critical=%.3f, stat=%.3f' % (prob, critical, stat))\r\n",
        "  if abs(stat) >= critical:\r\n",
        "    print('Dependent (reject H0)')\r\n",
        "  else:\r\n",
        "    print('Independent (fail to reject H0)')\r\n",
        "  # interpret p-value\r\n",
        "  alpha = 1.0 - prob\r\n",
        "  print('significance=%.3f, p=%.3f' % (alpha, p))\r\n",
        "  if p <= alpha:\r\n",
        "    print('Dependent (reject H0)')\r\n",
        "  else:\r\n",
        "    print('Independent (fail to reject H0)')"
      ],
      "execution_count": null,
      "outputs": []
    },
    {
      "cell_type": "code",
      "metadata": {
        "colab": {
          "base_uri": "https://localhost:8080/"
        },
        "id": "J6j0tWKcjgzg",
        "outputId": "51a4dc01-6d06-40c8-c794-7e85c39d6f98"
      },
      "source": [
        "# Hypothesis test continued.\r\n",
        "# Initialise cross table list and append each combination to it.\r\n",
        "count_tables = list()\r\n",
        "count_tables.append(pd.crosstab(study_df_chi['Gender'], study_df_chi['6M-Continues to eat?']))\r\n",
        "count_tables.append(pd.crosstab(study_df_chi['Age (Years)'], study_df_chi['6M-Continues to eat?']))\r\n",
        "count_tables.append(pd.crosstab(study_df_chi['Food challenged'], study_df_chi['6M-Continues to eat?']))\r\n",
        "count_tables.append(pd.crosstab(study_df_chi['Avoided for'], study_df_chi['6M-Continues to eat?']))\r\n",
        "count_tables.append(pd.crosstab(study_df_chi['Worst Reaction'], study_df_chi['6M-Continues to eat?']))\r\n",
        "count_tables.append(pd.crosstab(study_df_chi['SPT '], study_df_chi['6M-Continues to eat?']))\r\n",
        "count_tables.append(pd.crosstab(study_df_chi['Other food allergies'], study_df_chi['6M-Continues to eat?']))\r\n",
        "count_tables.append(pd.crosstab(study_df_chi['Maintanence of food following a previous successful food challenge'], study_df_chi['6M-Continues to eat?']))\r\n",
        "count_tables.append(pd.crosstab(study_df_chi['Concomitant atopy: 0=Nil, 1=Eczema, 2=Asthma, 3=AR (Allergic Rhinitis)'], study_df_chi['6M-Continues to eat?']))\r\n",
        "\r\n",
        "# Perform chi squared test on each table\r\n",
        "for table in count_tables:\r\n",
        "  # print()\r\n",
        "  chi_squared_test(table)\r\n",
        "  print('\\n')"
      ],
      "execution_count": null,
      "outputs": [
        {
          "output_type": "stream",
          "text": [
            "6M-Continues to eat?  No  Yes\n",
            "Gender                       \n",
            "Female                 4   38\n",
            "Male                   3   42\n",
            "dof=1\n",
            "probability=0.950, critical=3.841, stat=0.009\n",
            "Independent (fail to reject H0)\n",
            "significance=0.050, p=0.924\n",
            "Independent (fail to reject H0)\n",
            "\n",
            "\n",
            "6M-Continues to eat?  No  Yes\n",
            "Age (Years)                  \n",
            "0.0                    0    1\n",
            "1.0                    0   26\n",
            "10.0                   0    2\n",
            "11.0                   1    2\n",
            "12.0                   0    3\n",
            "13.0                   0    5\n",
            "15.0                   0    3\n",
            "16.0                   0    5\n",
            "18.0                   0    2\n",
            "2.0                    1    9\n",
            "3.0                    1    2\n",
            "4.0                    2    3\n",
            "5.0                    1    3\n",
            "7.0                    1    0\n",
            "8.0                    0    5\n",
            "9.0                    0    9\n",
            "dof=15\n",
            "probability=0.950, critical=24.996, stat=30.458\n",
            "Dependent (reject H0)\n",
            "significance=0.050, p=0.010\n",
            "Dependent (reject H0)\n",
            "\n",
            "\n",
            "6M-Continues to eat?  No  Yes\n",
            "Food challenged              \n",
            "Dairy                  0    2\n",
            "Egg                    1    9\n",
            "Fruit                  0    1\n",
            "Meat                   1    2\n",
            "Milk                   0    1\n",
            "Other                  2    1\n",
            "Peanut                 0   48\n",
            "Seafood                0    4\n",
            "Seed                   0    3\n",
            "Treenut                3    9\n",
            "dof=9\n",
            "probability=0.950, critical=16.919, stat=26.403\n",
            "Dependent (reject H0)\n",
            "significance=0.050, p=0.002\n",
            "Dependent (reject H0)\n",
            "\n",
            "\n",
            "6M-Continues to eat?  No  Yes\n",
            "Avoided for                  \n",
            "<2 yrs                 1   40\n",
            ">2 yrs                 6   40\n",
            "dof=1\n",
            "probability=0.950, critical=3.841, stat=2.018\n",
            "Independent (fail to reject H0)\n",
            "significance=0.050, p=0.155\n",
            "Independent (fail to reject H0)\n",
            "\n",
            "\n",
            "6M-Continues to eat?                No  Yes\n",
            "Worst Reaction                             \n",
            "Anaphylaxis                          1   27\n",
            "FPIES                                3    6\n",
            "Mild to Moderate Allergic Reaction   1   31\n",
            "Never eaten                          2   16\n",
            "dof=3\n",
            "probability=0.950, critical=7.815, stat=9.812\n",
            "Dependent (reject H0)\n",
            "significance=0.050, p=0.020\n",
            "Dependent (reject H0)\n",
            "\n",
            "\n",
            "6M-Continues to eat?  No  Yes\n",
            "SPT                          \n",
            "0                      0    1\n",
            "1                      1   25\n",
            "2                      1    7\n",
            "3                      0    1\n",
            "Equivocal              1    7\n",
            "Neg                    2   38\n",
            "Not Done               1    1\n",
            "nan                    1    0\n",
            "dof=7\n",
            "probability=0.950, critical=14.067, stat=17.912\n",
            "Dependent (reject H0)\n",
            "significance=0.050, p=0.012\n",
            "Dependent (reject H0)\n",
            "\n",
            "\n",
            "6M-Continues to eat?                          No  Yes\n",
            "Other food allergies                                 \n",
            "0                                              3   37\n",
            "<2 (Cashew)                                    0    1\n",
            "<2 (Cashew,Almond)                             0    1\n",
            "<2 (Cashew,Pistachio)                          0    1\n",
            "<2 (Dairy)                                     0    1\n",
            "<2 (Dairy, Egg)                                0    1\n",
            "<2 (Egg)                                       0   11\n",
            "<2 (Egg, Dairy)                                0    1\n",
            "<2 (Egg,Milk)                                  0    1\n",
            "<2 (Egg,Pistachio)                             0    1\n",
            "<2 (Egg/Beef FPIES)                            0    1\n",
            "<2 (Egg/Milk)                                  0    1\n",
            "<2 (Kiwifruit)                                 1    0\n",
            "<2 (Mustard)                                   1    0\n",
            "<2 (Peanut)                                    0    3\n",
            "<2 (Peanut,Beef)                               0    1\n",
            "<2 (Peanut,Egg)                                0    1\n",
            "<2 (Pecan,Walnut)                              0    1\n",
            "<2 (Prawn)                                     0    1\n",
            "<2 (Snowpeas)                                  0    1\n",
            "<2 (Treenut)                                   0    1\n",
            "<2 (Treenuts)                                  0    1\n",
            "<2 (Walnut, Kiwi)                              0    1\n",
            "<2(Cashew anaphylaxis, Treenut sensitised)     0    1\n",
            ">2 (Cashew, Peanut, egg)                       0    1\n",
            ">2 (Cashew, pistachio, brazilnut, macadamia)   0    1\n",
            ">2 (Dairy,Egg,Soy,Wheat                        0    1\n",
            ">2 (Dairy,Egg,Treenuts,Peanut)                 0    1\n",
            ">2 (Egg, Dairy, Cashew)                        0    1\n",
            ">2 (Egg,Dairy,Nuts)                            1    0\n",
            ">2 (Egg,Peanut,Cashew,Pistachio)               0    1\n",
            ">2 (Egg,Peanut,Snapper)                        0    1\n",
            ">2 (Egg/Peanut FPIES)                          0    1\n",
            ">2 (Lentil, WatermelonGreenbeans)              0    1\n",
            ">2 (Peanut, Cashew, Kiwi)                      1    0\n",
            ">2 (Wheat,Treenut)                             0    1\n",
            "dof=35\n",
            "probability=0.950, critical=49.802, stat=49.493\n",
            "Independent (fail to reject H0)\n",
            "significance=0.050, p=0.053\n",
            "Independent (fail to reject H0)\n",
            "\n",
            "\n",
            "6M-Continues to eat?                                No  Yes\n",
            "Maintanence of food following a previous succes...         \n",
            "No                                                   0    3\n",
            "Yes                                                  2   21\n",
            "nan                                                  5   56\n",
            "dof=2\n",
            "probability=0.950, critical=5.991, stat=0.277\n",
            "Independent (fail to reject H0)\n",
            "significance=0.050, p=0.870\n",
            "Independent (fail to reject H0)\n",
            "\n",
            "\n",
            "6M-Continues to eat?                                No  Yes\n",
            "Concomitant atopy: 0=Nil, 1=Eczema, 2=Asthma, 3...         \n",
            "0                                                    2   30\n",
            "1                                                    1   22\n",
            "1,2                                                  1    2\n",
            "1,2,3                                                2    7\n",
            "1,3                                                  1    3\n",
            "2                                                    0    3\n",
            "2,3                                                  0    7\n",
            "3                                                    0    6\n",
            "dof=7\n",
            "probability=0.950, critical=14.067, stat=8.556\n",
            "Independent (fail to reject H0)\n",
            "significance=0.050, p=0.286\n",
            "Independent (fail to reject H0)\n",
            "\n",
            "\n"
          ],
          "name": "stdout"
        }
      ]
    },
    {
      "cell_type": "code",
      "metadata": {
        "colab": {
          "base_uri": "https://localhost:8080/",
          "height": 480
        },
        "id": "cVXhouF0M48O",
        "outputId": "3c2b0b53-a4f2-47f1-cbd1-0dd44d25a8c4"
      },
      "source": [
        "# 3.\tIs food introduction sustained/ maintained when assessed at 3 specific time points namely 1, 3 and 6 months post successful food challenge\r\n",
        "# Exploring if continues to eat\r\n",
        "cont_cols = ['Gender', 'Food challenged', '1M-Introduced food?',\r\n",
        "             '3M-Continues to eat', '6M-Continues to eat?']\r\n",
        "continued_df = study_df[cont_cols]\r\n",
        "\r\n",
        "# Data on whether ptients continued to eat food\r\n",
        "cont_1m = continued_df['1M-Introduced food?'].value_counts(dropna=False)\r\n",
        "cont_3m = continued_df['3M-Continues to eat'].value_counts(dropna=False)\r\n",
        "cont_6m = continued_df['6M-Continues to eat?'].value_counts(dropna=False)\r\n",
        "cont_y_n_df = pd.DataFrame([cont_1m,cont_3m,cont_6m])\r\n",
        "cont_y_n_df_barplot = cont_y_n_df.plot.bar()\r\n",
        "# Add percentage \r\n",
        "cont_y_n_df['%Yes'] = cont_y_n_df.iloc[:,0]/(cont_y_n_df.iloc[:,0] + cont_y_n_df.iloc[:,1] + cont_y_n_df.iloc[:,2])*100\r\n",
        "cont_y_n_df['%No'] = cont_y_n_df.iloc[:,1]/(cont_y_n_df.iloc[:,0] + cont_y_n_df.iloc[:,1] + cont_y_n_df.iloc[:,2])*100\r\n",
        "cont_y_n_df['%NaN'] = cont_y_n_df.iloc[:,2]/(cont_y_n_df.iloc[:,0] + cont_y_n_df.iloc[:,1] + cont_y_n_df.iloc[:,2])*100\r\n",
        "\r\n",
        "round(cont_y_n_df, 1)\r\n",
        "# cont_y_n_df_barplot"
      ],
      "execution_count": null,
      "outputs": [
        {
          "output_type": "execute_result",
          "data": {
            "text/html": [
              "<div>\n",
              "<style scoped>\n",
              "    .dataframe tbody tr th:only-of-type {\n",
              "        vertical-align: middle;\n",
              "    }\n",
              "\n",
              "    .dataframe tbody tr th {\n",
              "        vertical-align: top;\n",
              "    }\n",
              "\n",
              "    .dataframe thead th {\n",
              "        text-align: right;\n",
              "    }\n",
              "</style>\n",
              "<table border=\"1\" class=\"dataframe\">\n",
              "  <thead>\n",
              "    <tr style=\"text-align: right;\">\n",
              "      <th></th>\n",
              "      <th>Yes</th>\n",
              "      <th>No</th>\n",
              "      <th>nan</th>\n",
              "      <th>%Yes</th>\n",
              "      <th>%No</th>\n",
              "      <th>%NaN</th>\n",
              "    </tr>\n",
              "  </thead>\n",
              "  <tbody>\n",
              "    <tr>\n",
              "      <th>1M-Introduced food?</th>\n",
              "      <td>103</td>\n",
              "      <td>6</td>\n",
              "      <td>1</td>\n",
              "      <td>93.6</td>\n",
              "      <td>5.5</td>\n",
              "      <td>0.9</td>\n",
              "    </tr>\n",
              "    <tr>\n",
              "      <th>3M-Continues to eat</th>\n",
              "      <td>90</td>\n",
              "      <td>8</td>\n",
              "      <td>12</td>\n",
              "      <td>81.8</td>\n",
              "      <td>7.3</td>\n",
              "      <td>10.9</td>\n",
              "    </tr>\n",
              "    <tr>\n",
              "      <th>6M-Continues to eat?</th>\n",
              "      <td>80</td>\n",
              "      <td>7</td>\n",
              "      <td>23</td>\n",
              "      <td>72.7</td>\n",
              "      <td>6.4</td>\n",
              "      <td>20.9</td>\n",
              "    </tr>\n",
              "  </tbody>\n",
              "</table>\n",
              "</div>"
            ],
            "text/plain": [
              "                      Yes  No  nan  %Yes  %No  %NaN\n",
              "1M-Introduced food?   103   6    1  93.6  5.5   0.9\n",
              "3M-Continues to eat    90   8   12  81.8  7.3  10.9\n",
              "6M-Continues to eat?   80   7   23  72.7  6.4  20.9"
            ]
          },
          "metadata": {
            "tags": []
          },
          "execution_count": 13
        },
        {
          "output_type": "display_data",
          "data": {
            "image/png": "[encoded data removed]",
            "text/plain": [
              "<Figure size 432x288 with 1 Axes>"
            ]
          },
          "metadata": {
            "tags": [],
            "needs_background": "light"
          }
        }
      ]
    },
    {
      "cell_type": "code",
      "metadata": {
        "colab": {
          "base_uri": "https://localhost:8080/"
        },
        "id": "vyq_PZ7mpi_f",
        "outputId": "cef851ef-5906-4316-ac63-f37fc274795d"
      },
      "source": [
        "cont_y_n_df_barplot"
      ],
      "execution_count": null,
      "outputs": [
        {
          "output_type": "execute_result",
          "data": {
            "text/plain": [
              "<matplotlib.axes._subplots.AxesSubplot at 0x7fe2e296c748>"
            ]
          },
          "metadata": {
            "tags": []
          },
          "execution_count": 14
        }
      ]
    },
    {
      "cell_type": "code",
      "metadata": {
        "id": "McrIGezNM8hv"
      },
      "source": [
        "# 4.\tBarriers to a successful introduction and maintenance (CAN ALSO BE DISCUSSED WITH THE FEEDBACK)\r\n",
        "# Exploring barriers to successful introduciton and maintenance \r\n",
        "barriers_df = study_df[[\"1M-Non Intro reasons:1: Refusal to eat (Texture, Smell or taste issues), 2: Reacted on trial at home, 3: Did not get a chance to introduce\", \r\n",
        "              '3M-nonmaintainencereasons:1: Refusal to eat (Texture, Smell or taste issues), 2: Reacted on trial at home, 3: Not part of family diet', \r\n",
        "              '6M-Nonmaintanence reasons: 1: Refusal to eat (Texture, Smell or taste issues), 2: Reacted on trial at home, 3: Not part of family diet']\r\n",
        "             ].astype(str)\r\n",
        "barriers_df = barriers_df.replace('“My child would not eat the food due to taste, smell or texture issues”', '1')\r\n",
        "barriers_df = barriers_df.replace('“My child reacted to the food”', '2')\r\n",
        "\r\n",
        "# barriers_df\r\n",
        "# My child would not eat the food due to taste, smell or texture issues"
      ],
      "execution_count": null,
      "outputs": []
    },
    {
      "cell_type": "code",
      "metadata": {
        "colab": {
          "base_uri": "https://localhost:8080/",
          "height": 274
        },
        "id": "kcXywxGoRuYE",
        "outputId": "09b0d207-28de-4186-bb8b-4365d1f62b10"
      },
      "source": [
        "# Q 4 continued\r\n",
        "barr1m = barriers_df['1M-Non Intro reasons:1: Refusal to eat (Texture, Smell or taste issues), 2: Reacted on trial at home, 3: Did not get a chance to introduce'].value_counts(dropna=False)\r\n",
        "barr3m = barriers_df['3M-nonmaintainencereasons:1: Refusal to eat (Texture, Smell or taste issues), 2: Reacted on trial at home, 3: Not part of family diet'].value_counts(dropna=False)\r\n",
        "barr6m = barriers_df['6M-Nonmaintanence reasons: 1: Refusal to eat (Texture, Smell or taste issues), 2: Reacted on trial at home, 3: Not part of family diet'].value_counts(dropna=False)\r\n",
        "\r\n",
        "barr_df = pd.DataFrame([barr1m, barr3m, barr6m])\r\n",
        "barr_df = barr_df.T\r\n",
        "# barr_df = barr_df.drop(barr_df.index[0])\r\n",
        "barr_df"
      ],
      "execution_count": null,
      "outputs": [
        {
          "output_type": "execute_result",
          "data": {
            "text/html": [
              "<div>\n",
              "<style scoped>\n",
              "    .dataframe tbody tr th:only-of-type {\n",
              "        vertical-align: middle;\n",
              "    }\n",
              "\n",
              "    .dataframe tbody tr th {\n",
              "        vertical-align: top;\n",
              "    }\n",
              "\n",
              "    .dataframe thead th {\n",
              "        text-align: right;\n",
              "    }\n",
              "</style>\n",
              "<table border=\"1\" class=\"dataframe\">\n",
              "  <thead>\n",
              "    <tr style=\"text-align: right;\">\n",
              "      <th></th>\n",
              "      <th>1M-Non Intro reasons:1: Refusal to eat (Texture, Smell or taste issues), 2: Reacted on trial at home, 3: Did not get a chance to introduce</th>\n",
              "      <th>3M-nonmaintainencereasons:1: Refusal to eat (Texture, Smell or taste issues), 2: Reacted on trial at home, 3: Not part of family diet</th>\n",
              "      <th>6M-Nonmaintanence reasons: 1: Refusal to eat (Texture, Smell or taste issues), 2: Reacted on trial at home, 3: Not part of family diet</th>\n",
              "    </tr>\n",
              "  </thead>\n",
              "  <tbody>\n",
              "    <tr>\n",
              "      <th>0</th>\n",
              "      <td>103.0</td>\n",
              "      <td>90.0</td>\n",
              "      <td>80.0</td>\n",
              "    </tr>\n",
              "    <tr>\n",
              "      <th>1</th>\n",
              "      <td>3.0</td>\n",
              "      <td>4.0</td>\n",
              "      <td>2.0</td>\n",
              "    </tr>\n",
              "    <tr>\n",
              "      <th>nan</th>\n",
              "      <td>1.0</td>\n",
              "      <td>12.0</td>\n",
              "      <td>23.0</td>\n",
              "    </tr>\n",
              "    <tr>\n",
              "      <th>1,3</th>\n",
              "      <td>1.0</td>\n",
              "      <td>NaN</td>\n",
              "      <td>1.0</td>\n",
              "    </tr>\n",
              "    <tr>\n",
              "      <th>3</th>\n",
              "      <td>1.0</td>\n",
              "      <td>1.0</td>\n",
              "      <td>3.0</td>\n",
              "    </tr>\n",
              "    <tr>\n",
              "      <th>2</th>\n",
              "      <td>1.0</td>\n",
              "      <td>3.0</td>\n",
              "      <td>1.0</td>\n",
              "    </tr>\n",
              "  </tbody>\n",
              "</table>\n",
              "</div>"
            ],
            "text/plain": [
              "     1M-Non Intro reasons:1: Refusal to eat (Texture, Smell or taste issues), 2: Reacted on trial at home, 3: Did not get a chance to introduce  ...  6M-Nonmaintanence reasons: 1: Refusal to eat (Texture, Smell or taste issues), 2: Reacted on trial at home, 3: Not part of family diet\n",
              "0                                                103.0                                                                                           ...                                               80.0                                                                                     \n",
              "1                                                  3.0                                                                                           ...                                                2.0                                                                                     \n",
              "nan                                                1.0                                                                                           ...                                               23.0                                                                                     \n",
              "1,3                                                1.0                                                                                           ...                                                1.0                                                                                     \n",
              "3                                                  1.0                                                                                           ...                                                3.0                                                                                     \n",
              "2                                                  1.0                                                                                           ...                                                1.0                                                                                     \n",
              "\n",
              "[6 rows x 3 columns]"
            ]
          },
          "metadata": {
            "tags": []
          },
          "execution_count": 16
        }
      ]
    },
    {
      "cell_type": "code",
      "metadata": {
        "colab": {
          "base_uri": "https://localhost:8080/",
          "height": 308
        },
        "id": "dUCcU0lM1_9e",
        "outputId": "e41cfd60-dd24-455d-8133-b42d5d30fe45"
      },
      "source": [
        "# # PLot barriers\r\n",
        "barr_df = barr_df.drop(barr_df.index[[0, 5]])\r\n",
        "# barr_df = barr_df.drop([\"nan\"])\r\n",
        "# barr_df = barr_df.drop(barr_df.index[])\r\n",
        "barr_df.plot.bar()\r\n",
        "plt.legend([\"1-Month\", '3-Months', '6-Months'])\r\n",
        "plt.title('1-, 3- & 6-Months: Reason for non-maintenance')"
      ],
      "execution_count": null,
      "outputs": [
        {
          "output_type": "execute_result",
          "data": {
            "text/plain": [
              "Text(0.5, 1.0, '1-, 3- & 6-Months: Reason for non-maintenance')"
            ]
          },
          "metadata": {
            "tags": []
          },
          "execution_count": 17
        },
        {
          "output_type": "display_data",
          "data": {
            "image/png": "[encoded data removed]",
            "text/plain": [
              "<Figure size 432x288 with 1 Axes>"
            ]
          },
          "metadata": {
            "tags": [],
            "needs_background": "light"
          }
        }
      ]
    },
    {
      "cell_type": "code",
      "metadata": {
        "colab": {
          "base_uri": "https://localhost:8080/",
          "height": 451
        },
        "id": "6i1sKP4tM_Fx",
        "outputId": "edbbdbd7-c439-4239-c47a-15cc304ea9d8"
      },
      "source": [
        "# 5.\tPatients/ Parents perception of the value of inpatient food challenges\r\n",
        "\r\n",
        "# Patients / parents perceptions of the value of inpatients food challenges\r\n",
        "feedback_cols = ['3M-Could we help in ensuring  maintenance of food (Patientfeedback', \r\n",
        "                 \"3M Please provide your thoughts on how we might be able to help you maintain the food item in your child's diet?\",\r\n",
        "                 '6M-Could we help in ensuring  maintenance of food (Patientfeedback', \"6M Please provide your thoughts on how we might be able to help you maintain the food item in your child's diet?\"]\r\n",
        "\r\n",
        "feedback_df = study_df[feedback_cols]\r\n",
        "\r\n",
        "feedback3m = feedback_df['3M-Could we help in ensuring  maintenance of food (Patientfeedback'].value_counts()\r\n",
        "feedback3m1 = feedback_df[\"3M Please provide your thoughts on how we might be able to help you maintain the food item in your child's diet?\"].value_counts()\r\n",
        "feedback6m = feedback_df['6M-Could we help in ensuring  maintenance of food (Patientfeedback'].value_counts()\r\n",
        "feedback6m1 = feedback_df[\"6M Please provide your thoughts on how we might be able to help you maintain the food item in your child's diet?\"].value_counts()\r\n",
        "\r\n",
        "feedback_df_help_y_n = pd.DataFrame([feedback3m, feedback6m])\r\n",
        "feedback_df_advice = pd.DataFrame([feedback3m1, feedback6m1])\r\n",
        "\r\n",
        "feedback_df_help_y_n = feedback_df_help_y_n.T\r\n",
        "feedback_df_advice = feedback_df_advice.T\r\n",
        "\r\n",
        "print(feedback_df_help_y_n, '\\n')\r\n",
        "print(feedback_df_advice)\r\n",
        "feedback_df_help_y_n"
      ],
      "execution_count": null,
      "outputs": [
        {
          "output_type": "stream",
          "text": [
            "     3M-Could we help in ensuring  maintenance of food (Patientfeedback  6M-Could we help in ensuring  maintenance of food (Patientfeedback\n",
            "0                                                 90.0                                                                 NaN                 \n",
            "nan                                               12.0                                                                23.0                 \n",
            "No                                                 6.0                                                                63.0                 \n",
            "Yes                                                2.0                                                                24.0                  \n",
            "\n",
            "                   3M Please provide your thoughts on how we might be able to help you maintain the food item in your child's diet?  6M Please provide your thoughts on how we might be able to help you maintain the food item in your child's diet?\n",
            "0                                                               96.0                                                                                                              62.0                                                               \n",
            "nan                                                             12.0                                                                                                              23.0                                                               \n",
            "Support                                                          2.0                                                                                                              13.0                                                               \n",
            "Reminder/Checkin                                                 NaN                                                                                                               6.0                                                               \n",
            "Education,Support                                                NaN                                                                                                               2.0                                                               \n",
            "Recipes                                                          NaN                                                                                                               2.0                                                               \n",
            "Education                                                        NaN                                                                                                               1.0                                                               \n",
            "Support,Recipes                                                  NaN                                                                                                               1.0                                                               \n"
          ],
          "name": "stdout"
        },
        {
          "output_type": "execute_result",
          "data": {
            "text/html": [
              "<div>\n",
              "<style scoped>\n",
              "    .dataframe tbody tr th:only-of-type {\n",
              "        vertical-align: middle;\n",
              "    }\n",
              "\n",
              "    .dataframe tbody tr th {\n",
              "        vertical-align: top;\n",
              "    }\n",
              "\n",
              "    .dataframe thead th {\n",
              "        text-align: right;\n",
              "    }\n",
              "</style>\n",
              "<table border=\"1\" class=\"dataframe\">\n",
              "  <thead>\n",
              "    <tr style=\"text-align: right;\">\n",
              "      <th></th>\n",
              "      <th>3M-Could we help in ensuring  maintenance of food (Patientfeedback</th>\n",
              "      <th>6M-Could we help in ensuring  maintenance of food (Patientfeedback</th>\n",
              "    </tr>\n",
              "  </thead>\n",
              "  <tbody>\n",
              "    <tr>\n",
              "      <th>0</th>\n",
              "      <td>90.0</td>\n",
              "      <td>NaN</td>\n",
              "    </tr>\n",
              "    <tr>\n",
              "      <th>nan</th>\n",
              "      <td>12.0</td>\n",
              "      <td>23.0</td>\n",
              "    </tr>\n",
              "    <tr>\n",
              "      <th>No</th>\n",
              "      <td>6.0</td>\n",
              "      <td>63.0</td>\n",
              "    </tr>\n",
              "    <tr>\n",
              "      <th>Yes</th>\n",
              "      <td>2.0</td>\n",
              "      <td>24.0</td>\n",
              "    </tr>\n",
              "  </tbody>\n",
              "</table>\n",
              "</div>"
            ],
            "text/plain": [
              "     3M-Could we help in ensuring  maintenance of food (Patientfeedback  6M-Could we help in ensuring  maintenance of food (Patientfeedback\n",
              "0                                                 90.0                                                                 NaN                 \n",
              "nan                                               12.0                                                                23.0                 \n",
              "No                                                 6.0                                                                63.0                 \n",
              "Yes                                                2.0                                                                24.0                 "
            ]
          },
          "metadata": {
            "tags": []
          },
          "execution_count": 18
        }
      ]
    },
    {
      "cell_type": "code",
      "metadata": {
        "colab": {
          "base_uri": "https://localhost:8080/",
          "height": 308
        },
        "id": "2dTDcUM2cjMJ",
        "outputId": "36b5ccde-eb42-42d9-c0bb-9cda47fb2e11"
      },
      "source": [
        "# Create feedback plot\r\n",
        "feedback_df_help_y_n.plot.bar()\r\n",
        "plt.legend(['3-Months', '6-Months'])\r\n",
        "plt.title('3- & 6-Months: Would Support Help?')"
      ],
      "execution_count": null,
      "outputs": [
        {
          "output_type": "execute_result",
          "data": {
            "text/plain": [
              "Text(0.5, 1.0, '3- & 6-Months: Would Support Help?')"
            ]
          },
          "metadata": {
            "tags": []
          },
          "execution_count": 19
        },
        {
          "output_type": "display_data",
          "data": {
            "image/png": "[encoded data removed]",
            "text/plain": [
              "<Figure size 432x288 with 1 Axes>"
            ]
          },
          "metadata": {
            "tags": [],
            "needs_background": "light"
          }
        }
      ]
    },
    {
      "cell_type": "code",
      "metadata": {
        "colab": {
          "base_uri": "https://localhost:8080/",
          "height": 305
        },
        "id": "EedLUBjeoVFQ",
        "outputId": "cdb8cd9d-f737-4e11-fb20-5c4d63c35390"
      },
      "source": [
        "# Create adjusted feedback plot\r\n",
        "feedback_df_help_y_n = feedback_df_help_y_n.drop(feedback_df_help_y_n.index[[0, 1]])\r\n",
        "feedback_df_help_y_n.plot.bar()\r\n",
        "plt.legend(['3-Months', '6-Months'])\r\n",
        "plt.title('3- & 6-Months: Would Support Help?')"
      ],
      "execution_count": null,
      "outputs": [
        {
          "output_type": "execute_result",
          "data": {
            "text/plain": [
              "Text(0.5, 1.0, '3- & 6-Months: Would Support Help?')"
            ]
          },
          "metadata": {
            "tags": []
          },
          "execution_count": 20
        },
        {
          "output_type": "display_data",
          "data": {
            "image/png": "[encoded data removed]",
            "text/plain": [
              "<Figure size 432x288 with 1 Axes>"
            ]
          },
          "metadata": {
            "tags": [],
            "needs_background": "light"
          }
        }
      ]
    },
    {
      "cell_type": "code",
      "metadata": {
        "colab": {
          "base_uri": "https://localhost:8080/",
          "height": 380
        },
        "id": "4Ta2b87D7deU",
        "outputId": "55902043-9bd6-4068-9361-fe67fa3e4afb"
      },
      "source": [
        "feedback_df_advice.plot.bar()\r\n",
        "plt.legend(['3-Months', '6-Months'])\r\n",
        "plt.title('3- & 6-Months: What type of support would help?')"
      ],
      "execution_count": null,
      "outputs": [
        {
          "output_type": "execute_result",
          "data": {
            "text/plain": [
              "Text(0.5, 1.0, '3- & 6-Months: What type of support would help?')"
            ]
          },
          "metadata": {
            "tags": []
          },
          "execution_count": 21
        },
        {
          "output_type": "display_data",
          "data": {
            "image/png": "[encoded data removed]",
            "text/plain": [
              "<Figure size 432x288 with 1 Axes>"
            ]
          },
          "metadata": {
            "tags": [],
            "needs_background": "light"
          }
        }
      ]
    },
    {
      "cell_type": "code",
      "metadata": {
        "colab": {
          "base_uri": "https://localhost:8080/",
          "height": 380
        },
        "id": "DnjFnWnkjowt",
        "outputId": "ba3f2ba0-3f6a-4988-dbbd-7043e20e401a"
      },
      "source": [
        "feedback_df_advice = feedback_df_advice.drop(feedback_df_advice.index[[0, 1]])\r\n",
        "feedback_df_advice.plot.bar()\r\n",
        "plt.legend(['3-Months', '6-Months'])\r\n",
        "plt.title('3- & 6-Months: What type of support would help?')"
      ],
      "execution_count": null,
      "outputs": [
        {
          "output_type": "execute_result",
          "data": {
            "text/plain": [
              "Text(0.5, 1.0, '3- & 6-Months: What type of support would help?')"
            ]
          },
          "metadata": {
            "tags": []
          },
          "execution_count": 22
        },
        {
          "output_type": "display_data",
          "data": {
            "image/png": "[encoded data removed]",
            "text/plain": [
              "<Figure size 432x288 with 1 Axes>"
            ]
          },
          "metadata": {
            "tags": [],
            "needs_background": "light"
          }
        }
      ]
    }
  ]
}